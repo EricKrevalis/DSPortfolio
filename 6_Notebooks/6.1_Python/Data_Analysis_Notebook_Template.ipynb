{
 "cells": [
  {
   "cell_type": "markdown",
   "metadata": {},
   "source": [
    "# Data Analysis Notebook\n",
    "**Purpose**: Standardized exploratory analysis for [Dataset].  \n",
    "**Author**: Eric    \n",
    "**Key Tools**: Python, ydata_profiling, scipy, seaborn  \n",
    "**Industry Standards**: CRISP-DM framework, Kaggle Survey Best Practices (2023)"
   ]
  },
  {
   "cell_type": "markdown",
   "metadata": {},
   "source": [
    "### 1. Packages & Settings\n",
    "*Why this matters*: Configurations ensure reproducibility and readability.  \n",
    "*Industry Standard*: Always set random seeds, display limits, and visualization themes upfront."
   ]
  },
  {
   "cell_type": "code",
   "execution_count": null,
   "metadata": {},
   "outputs": [],
   "source": [
    "# Core libraries\n",
    "import pandas as pd\n",
    "import numpy as np\n",
    "import seaborn as sns\n",
    "import matplotlib.pyplot as plt\n",
    "\n",
    "# Advanced analysis\n",
    "from scipy import stats\n",
    "from ydata_profiling import ProfileReport\n",
    "\n",
    "# Interactive tables (optional)\n",
    "from itables import init_notebook_mode, show\n",
    "init_notebook_mode(all_interactive=True)\n",
    "\n",
    "# Configuration\n",
    "pd.set_option('display.max_columns', 30)\n",
    "sns.set_theme(style='whitegrid')\n",
    "%config InlineBackend.figure_format = 'retina'\n",
    "np.random.seed(42)  # Reproducibility"
   ]
  },
  {
   "cell_type": "markdown",
   "metadata": {},
   "source": [
    "### 2. Importing Data\n",
    "*Why this matters*: Raw data is the foundation of all analysis.  \n",
    "*Industry Standard*: Always check file encoding and delimiter mismatches."
   ]
  },
  {
   "cell_type": "code",
   "execution_count": 11,
   "metadata": {},
   "outputs": [],
   "source": [
    "# 2. Data Loading\n",
    "df = pd.read_csv(r\"[Dataset Path]\")"
   ]
  },
  {
   "cell_type": "markdown",
   "metadata": {},
   "source": [
    "### 3. First Look\n",
    "*What you’ll learn*:  \n",
    "- Dataset size and column types  \n",
    "- Immediate red flags (e.g., 90% missing values in a column)  \n",
    "- Example: If `df.shape` shows (1000, 50), you know it's a medium-sized dataset."
   ]
  },
  {
   "cell_type": "code",
   "execution_count": null,
   "metadata": {},
   "outputs": [],
   "source": [
    "# Shape and types\n",
    "print(f\"Rows: {df.shape[0]}, Columns: {df.shape[1]}\")\n",
    "display(df.dtypes.to_frame(name='Data Type'))\n",
    "\n",
    "# Missing values\n",
    "null_summary = df.isna().sum().to_frame(name='Missing Values')\n",
    "null_summary['% Missing'] = (null_summary['Missing Values'] / len(df)) * 100\n",
    "display(null_summary.sort_values('% Missing', ascending=False))\n",
    "\n",
    "# Sample data\n",
    "show(df.sample(5))  # Random rows to avoid bias"
   ]
  },
  {
   "cell_type": "markdown",
   "metadata": {},
   "source": [
    "### 4. Automated Analysis\n",
    "*What you’ll learn*:  \n",
    "- Correlations between variables (e.g., \"Sales increase with Marketing Spend\")  \n",
    "- Skewed distributions (e.g., 80% of users are from the USA)  \n",
    "- Duplicate rows or constant-value columns  \n",
    "*Industry Trade-off*: Fast but surface-level – use to guide deeper analysis."
   ]
  },
  {
   "cell_type": "code",
   "execution_count": null,
   "metadata": {},
   "outputs": [],
   "source": [
    "profile = ProfileReport(df, title=\"Automated EDA\", explorative=True)\n",
    "profile.to_notebook_iframe()\n",
    "# Save to HTML for later review (optional)\n",
    "# profile.to_file(\"automated_eda_report.html\")"
   ]
  },
  {
   "cell_type": "markdown",
   "metadata": {},
   "source": [
    "### 5. Hypothesis-Driven Analysis\n",
    "*What you’ll learn*:  \n",
    "- Statistical significance of observed patterns  \n",
    "- Relationships not caught by automated tools (e.g., interaction effects)  \n",
    "*Industry Standard*: Always validate automated findings manually.\n",
    "\n",
    "### This is only an example section of code that relates to statistical analysis. This code is NOT being used directly."
   ]
  },
  {
   "cell_type": "code",
   "execution_count": null,
   "metadata": {},
   "outputs": [],
   "source": [
    "# ----------------------------------\n",
    "### A. Normality Check (Numerical Data)\n",
    "# Example: If p < 0.05, data is non-normal -> use non-parametric tests\n",
    "# ----------------------------------\n",
    "for col in df.select_dtypes(include=np.number):\n",
    "    stat, p = stats.shapiro(df[col].dropna().sample(5000))  # Limit sample size\n",
    "    print(f\"{col}: Shapiro-Wilk p = {p:.4f}\")\n",
    "\n",
    "\n",
    "# ----------------------------------\n",
    "### B. Categorical Relationships\n",
    "# Example: \"Chi2 p < 0.05 implies Region affects Product Preference\"\n",
    "# ----------------------------------\n",
    "def plot_categorical_association(df, col1, col2):\n",
    "    contingency = pd.crosstab(df[col1], df[col2])\n",
    "    chi2, p, _, _ = stats.chi2_contingency(contingency)\n",
    "    \n",
    "    plt.figure(figsize=(8,4))\n",
    "    sns.heatmap(contingency, annot=True, fmt='d', cmap='Blues')\n",
    "    plt.title(f\"{col1} vs {col2}\\nChi2 p-value: {p:.4f}\")\n",
    "    plt.show() \n",
    "# Usage: plot_categorical_association(df, 'Gender', 'Purchase_Status')\n",
    "\n",
    "\n",
    "# ----------------------------------\n",
    "### C. Correlation Significance\n",
    "# Example: \"Price and Sales have r=-0.7 (p<0.001) – strong negative relationship\"\n",
    "# ----------------------------------\n",
    "corr_matrix = df.corr(numeric_only=True)\n",
    "p_values = df.corr(method=lambda x, y: stats.pearsonr(x, y)[2]) - np.eye(corr_matrix.shape[1])\n",
    "\n",
    "plt.figure(figsize=(10,6))\n",
    "sns.heatmap(corr_matrix, annot=True, mask=p_values > 0.05, cmap='coolwarm')\n",
    "plt.title('Statistically Significant Correlations (p < 0.05)')\n",
    "plt.show()"
   ]
  },
  {
   "cell_type": "markdown",
   "metadata": {},
   "source": [
    "### 6. Focused Investigation\n",
    "*When to use*:  \n",
    "- Drill into subgroups (e.g., \"Why do users aged 30-40 have higher churn?\")  \n",
    "- Export specific slices for stakeholder reviews  \n",
    "*Industry Standard*: Never explore blindly – start with hypotheses from Sections 4-5."
   ]
  },
  {
   "cell_type": "code",
   "execution_count": null,
   "metadata": {},
   "outputs": [],
   "source": [
    "# Example: Investigate high-income outliers\n",
    "show(\n",
    "    df.query(\"Income > 70000\"),\n",
    "    column_filters=\"footer\",\n",
    "    buttons=[\"copy\", \"csv\"],\n",
    "    scrollY=\"300px\",\n",
    "    classes=\"compact\"\n",
    ")"
   ]
  }
 ],
 "metadata": {
  "kernelspec": {
   "display_name": "ds_env",
   "language": "python",
   "name": "python3"
  },
  "language_info": {
   "codemirror_mode": {
    "name": "ipython",
    "version": 3
   },
   "file_extension": ".py",
   "mimetype": "text/x-python",
   "name": "python",
   "nbconvert_exporter": "python",
   "pygments_lexer": "ipython3",
   "version": "3.12.9"
  }
 },
 "nbformat": 4,
 "nbformat_minor": 2
}
