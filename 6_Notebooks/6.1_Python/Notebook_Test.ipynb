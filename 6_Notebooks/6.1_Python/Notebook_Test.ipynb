{
 "cells": [
  {
   "cell_type": "markdown",
   "metadata": {},
   "source": [
    "# My first notebook"
   ]
  },
  {
   "cell_type": "code",
   "execution_count": null,
   "metadata": {},
   "outputs": [],
   "source": [
    "import pandas as pd\n",
    "from itables import init_notebook_mode, show\n",
    "from IPython.display import display\n",
    "init_notebook_mode(all_interactive=True)\n",
    "\n",
    "df = pd.read_csv(r\"E:\\Work\\DataSciencePortfolio\\0_Data\\0.1_Raw\\0.1.01_avocado_prices\\avocado.csv\")"
   ]
  },
  {
   "cell_type": "code",
   "execution_count": null,
   "metadata": {},
   "outputs": [],
   "source": [
    "# Display info of dataset\n",
    "show(df.head())  # First 5 rows\n",
    "display(df.info())  # Column types and missing values\n",
    "show(df.describe())  # Basic stats for numerical columns"
   ]
  },
  {
   "cell_type": "code",
   "execution_count": null,
   "metadata": {},
   "outputs": [],
   "source": [
    "show(df)"
   ]
  },
  {
   "cell_type": "code",
   "execution_count": null,
   "metadata": {},
   "outputs": [],
   "source": [
    "show(\n",
    "    df,\n",
    "    maxBytes=0,  # Disable row limit\n",
    "    column_filters=\"footer\",  # Add search boxes per column\n",
    "    dom=\"Blrftip\",  # Add buttons for copy/export and entries\n",
    "    buttons=[\"copy\", \"csv\", \"excel\"],  # Enable export options\n",
    "    classes=\"display compact\",  # Compact styling\n",
    ")"
   ]
  },
  {
   "cell_type": "code",
   "execution_count": null,
   "metadata": {},
   "outputs": [],
   "source": [
    "show(\n",
    "    df.head(20),  # Explicitly limit to 20 rows\n",
    "    maxBytes=0,  # Still disable row limits (but we already truncated with .head())\n",
    "    column_filters=\"footer\",\n",
    "    buttons=[\"copy\", \"csv\"],\n",
    "    classes=\"display compact\",\n",
    ")"
   ]
  }
 ],
 "metadata": {
  "kernelspec": {
   "display_name": "Python 3",
   "language": "python",
   "name": "python3"
  },
  "language_info": {
   "codemirror_mode": {
    "name": "ipython",
    "version": 3
   },
   "file_extension": ".py",
   "mimetype": "text/x-python",
   "name": "python",
   "nbconvert_exporter": "python",
   "pygments_lexer": "ipython3",
   "version": "3.13.1"
  }
 },
 "nbformat": 4,
 "nbformat_minor": 2
}
